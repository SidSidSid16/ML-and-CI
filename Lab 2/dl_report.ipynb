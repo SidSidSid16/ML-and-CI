{
 "cells": [
  {
   "cell_type": "markdown",
   "id": "20199e9c",
   "metadata": {},
   "source": [
    "## Lab Steps:"
   ]
  },
  {
   "cell_type": "markdown",
   "id": "9e2e82e5",
   "metadata": {},
   "source": [
    "## Step 1: Importing Libraries and Loading Data"
   ]
  },
  {
   "cell_type": "markdown",
   "id": "bcb4841b",
   "metadata": {},
   "source": [
    "In this step, you'll start by importing the required libraries: Pandas, NumPy, Matplotlib, and Scikit-learn. These libraries will enable you to perform various tasks in the machine learning workflow."
   ]
  },
  {
   "cell_type": "markdown",
   "id": "83dc82d4",
   "metadata": {},
   "source": [
    "## Importing the required libraries\n"
   ]
  },
  {
   "cell_type": "code",
   "execution_count": 2,
   "id": "8e21e50c",
   "metadata": {},
   "outputs": [],
   "source": [
    "import torch\n",
    "import torchvision\n",
    "import torchvision.transforms as transforms\n",
    "import torch.nn as nn\n",
    "import torch.optim as optim\n",
    "import matplotlib.pyplot as plt\n",
    "import numpy as np"
   ]
  },
  {
   "cell_type": "markdown",
   "id": "99e1ea69",
   "metadata": {},
   "source": [
    "## Step 2:  Loading the dataset"
   ]
  },
  {
   "cell_type": "markdown",
   "id": "6368556d",
   "metadata": {},
   "source": [
    "We will use MNIST dataset where each sample is classified as numbers between 0 to 9."
   ]
  },
  {
   "cell_type": "code",
   "execution_count": 3,
   "id": "af629924",
   "metadata": {},
   "outputs": [
    {
     "name": "stdout",
     "output_type": "stream",
     "text": [
      "Downloading http://fashion-mnist.s3-website.eu-central-1.amazonaws.com/train-images-idx3-ubyte.gz\n",
      "Downloading http://fashion-mnist.s3-website.eu-central-1.amazonaws.com/train-images-idx3-ubyte.gz to ./data/FashionMNIST/raw/train-images-idx3-ubyte.gz\n"
     ]
    },
    {
     "name": "stderr",
     "output_type": "stream",
     "text": [
      "100.0%\n"
     ]
    },
    {
     "name": "stdout",
     "output_type": "stream",
     "text": [
      "Extracting ./data/FashionMNIST/raw/train-images-idx3-ubyte.gz to ./data/FashionMNIST/raw\n",
      "\n",
      "Downloading http://fashion-mnist.s3-website.eu-central-1.amazonaws.com/train-labels-idx1-ubyte.gz\n",
      "Downloading http://fashion-mnist.s3-website.eu-central-1.amazonaws.com/train-labels-idx1-ubyte.gz to ./data/FashionMNIST/raw/train-labels-idx1-ubyte.gz\n"
     ]
    },
    {
     "name": "stderr",
     "output_type": "stream",
     "text": [
      "100.0%\n"
     ]
    },
    {
     "name": "stdout",
     "output_type": "stream",
     "text": [
      "Extracting ./data/FashionMNIST/raw/train-labels-idx1-ubyte.gz to ./data/FashionMNIST/raw\n",
      "\n",
      "Downloading http://fashion-mnist.s3-website.eu-central-1.amazonaws.com/t10k-images-idx3-ubyte.gz\n",
      "Downloading http://fashion-mnist.s3-website.eu-central-1.amazonaws.com/t10k-images-idx3-ubyte.gz to ./data/FashionMNIST/raw/t10k-images-idx3-ubyte.gz\n"
     ]
    },
    {
     "name": "stderr",
     "output_type": "stream",
     "text": [
      "100.0%\n"
     ]
    },
    {
     "name": "stdout",
     "output_type": "stream",
     "text": [
      "Extracting ./data/FashionMNIST/raw/t10k-images-idx3-ubyte.gz to ./data/FashionMNIST/raw\n",
      "\n",
      "Downloading http://fashion-mnist.s3-website.eu-central-1.amazonaws.com/t10k-labels-idx1-ubyte.gz\n",
      "Downloading http://fashion-mnist.s3-website.eu-central-1.amazonaws.com/t10k-labels-idx1-ubyte.gz to ./data/FashionMNIST/raw/t10k-labels-idx1-ubyte.gz\n"
     ]
    },
    {
     "name": "stderr",
     "output_type": "stream",
     "text": [
      "100.0%"
     ]
    },
    {
     "name": "stdout",
     "output_type": "stream",
     "text": [
      "Extracting ./data/FashionMNIST/raw/t10k-labels-idx1-ubyte.gz to ./data/FashionMNIST/raw\n",
      "\n"
     ]
    },
    {
     "name": "stderr",
     "output_type": "stream",
     "text": [
      "\n"
     ]
    }
   ],
   "source": [
    "# Load the MNIST dataset and apply data transformations\n",
    "transform = transforms.Compose([transforms.ToTensor(), transforms.Normalize((0.5,), (0.5,))])\n",
    "\n",
    "trainset = torchvision.datasets.FashionMNIST(root='./data', train=True, download=True, transform=transform)\n",
    "trainloader = torch.utils.data.DataLoader(trainset, batch_size=4, shuffle=True, num_workers=2)\n",
    "\n",
    "testset = torchvision.datasets.FashionMNIST(root='./data', train=False, download=True, transform=transform)\n",
    "testloader = torch.utils.data.DataLoader(testset, batch_size=4, shuffle=False, num_workers=2)"
   ]
  },
  {
   "cell_type": "markdown",
   "id": "72dad0c8",
   "metadata": {},
   "source": [
    "Let's see how image samples look like."
   ]
  },
  {
   "cell_type": "code",
   "execution_count": 4,
   "id": "e9d17d6d",
   "metadata": {},
   "outputs": [],
   "source": [
    "images, labels = next(iter(trainloader))"
   ]
  },
  {
   "cell_type": "code",
   "execution_count": 5,
   "id": "b0063d42",
   "metadata": {},
   "outputs": [
    {
     "data": {
      "image/png": "[encoded data removed]",
      "text/plain": [
       "<Figure size 1200x400 with 4 Axes>"
      ]
     },
     "metadata": {},
     "output_type": "display_data"
    }
   ],
   "source": [
    "fig, axes = plt.subplots(1, 4, figsize=(12, 4))\n",
    "for i in range(4):\n",
    "    axes[i].imshow(images[i][0])\n",
    "    axes[i].axis('off')\n",
    "plt.show()"
   ]
  },
  {
   "cell_type": "markdown",
   "id": "5391fde2",
   "metadata": {},
   "source": [
    "Now let's build a neural network model and train the model using the above dataset"
   ]
  },
  {
   "cell_type": "markdown",
   "id": "512ae8c2",
   "metadata": {},
   "source": [
    "## Simple Neural Network"
   ]
  },
  {
   "cell_type": "markdown",
   "id": "3a76ccab",
   "metadata": {},
   "source": [
    "Define\n",
    "- input dimension ==> each image sample has size 28 * 28\n",
    "- ouptu dimension ==> each image is classified between 0 to 9 (total 10 classes)"
   ]
  },
  {
   "cell_type": "code",
   "execution_count": 6,
   "id": "c3670471",
   "metadata": {},
   "outputs": [],
   "source": [
    "# Define the neural network model\n",
    "class SimpleNN(nn.Module):\n",
    "    def __init__(self, input_dim=None, output_dim=None):\n",
    "        super(SimpleNN, self).__init__()\n",
    "        self.fc1 = nn.Linear(input_dim, 128)\n",
    "        self.fc2 = nn.Linear(128, 64)\n",
    "        self.fc3 = nn.Linear(64, output_dim)\n",
    "\n",
    "    def forward(self, x):\n",
    "        x = x.view(-1, 28*28)\n",
    "        x = torch.relu(self.fc1(x))\n",
    "        x = torch.relu(self.fc2(x))\n",
    "        x = self.fc3(x)\n",
    "        return x"
   ]
  },
  {
   "cell_type": "markdown",
   "id": "834f3827",
   "metadata": {},
   "source": [
    "## Helper function to compute accuracy and plots"
   ]
  },
  {
   "cell_type": "code",
   "execution_count": 7,
   "id": "d29701fa",
   "metadata": {},
   "outputs": [],
   "source": [
    "# Function to calculate accuracy on the test set\n",
    "def calculate_accuracy(net, testloader):\n",
    "    correct = 0\n",
    "    total = 0\n",
    "    with torch.no_grad():\n",
    "        for data in testloader:\n",
    "            images, labels = data\n",
    "            outputs = net(images)\n",
    "            _, predicted = torch.max(outputs.data, 1)\n",
    "            total += labels.size(0)\n",
    "            correct += (predicted == labels).sum().item()\n",
    "    return 100 * correct / total\n",
    "\n",
    "# Function to plot training loss curve\n",
    "def plot_loss_curve(losses):\n",
    "    plt.plot(losses)\n",
    "    plt.xlabel('Iterations')\n",
    "    plt.ylabel('Loss')\n",
    "    plt.title('Training Loss Curve')\n",
    "    plt.show()\n",
    "\n",
    "# Function to plot misclassified images\n",
    "def plot_misclassified_images(net, testloader, num_images=5):\n",
    "    misclassified_images = []\n",
    "    misclassified_labels = []\n",
    "    correct_labels = []\n",
    "    with torch.no_grad():\n",
    "        for data in testloader:\n",
    "            images, labels = data\n",
    "            outputs = net(images)\n",
    "            _, predicted = torch.max(outputs.data, 1)\n",
    "            incorrect_indices = (predicted != labels).nonzero(as_tuple=True)[0]\n",
    "            for idx in incorrect_indices:\n",
    "                misclassified_images.append(images[idx])\n",
    "                misclassified_labels.append(predicted[idx])\n",
    "                correct_labels.append(labels[idx])\n",
    "            if len(misclassified_images) >= num_images:\n",
    "                break\n",
    "\n",
    "    fig, axes = plt.subplots(1, num_images, figsize=(12, 4))\n",
    "    for i in range(num_images):\n",
    "        axes[i].imshow(misclassified_images[i][0], cmap='gray')\n",
    "        axes[i].set_title(f'Predicted: {misclassified_labels[i]}, Correct: {correct_labels[i]}')\n",
    "        axes[i].axis('off')\n",
    "    plt.suptitle('Misclassified Images')\n",
    "    plt.show()"
   ]
  },
  {
   "cell_type": "markdown",
   "id": "af6fa6ea",
   "metadata": {},
   "source": [
    "## Building the Model/Network"
   ]
  },
  {
   "cell_type": "code",
   "execution_count": 8,
   "id": "90ff9364",
   "metadata": {},
   "outputs": [],
   "source": [
    "# Create an instance of the neural network\n",
    "net = SimpleNN(input_dim = 28*28, output_dim = 10)"
   ]
  },
  {
   "cell_type": "markdown",
   "id": "e09f8bd0",
   "metadata": {},
   "source": [
    "Define\n",
    "- loss function\n",
    "- optimizer\n",
    "- learning rate (lr)\n",
    "- momentum\n",
    "\n",
    "- epoch to train"
   ]
  },
  {
   "cell_type": "code",
   "execution_count": 9,
   "id": "f6c4b17a",
   "metadata": {},
   "outputs": [],
   "source": [
    "# Define the loss function and optimizer\n",
    "criterion = nn.CrossEntropyLoss()\n",
    "optimizer = optim.SGD(net.parameters(), lr=0.001, momentum=0.9)\n",
    "\n",
    "# Training parameters\n",
    "num_epochs = 5\n",
    "losses = []"
   ]
  },
  {
   "cell_type": "markdown",
   "id": "b05c5cdf",
   "metadata": {},
   "source": [
    "## Train the network"
   ]
  },
  {
   "cell_type": "code",
   "execution_count": 10,
   "id": "f9df36cc",
   "metadata": {},
   "outputs": [
    {
     "name": "stdout",
     "output_type": "stream",
     "text": [
      "[Epoch 1, Batch 2000] Loss: 0.885\n",
      "[Epoch 1, Batch 4000] Loss: 0.573\n",
      "[Epoch 1, Batch 6000] Loss: 0.517\n",
      "[Epoch 1, Batch 8000] Loss: 0.469\n",
      "[Epoch 1, Batch 10000] Loss: 0.464\n",
      "[Epoch 1, Batch 12000] Loss: 0.444\n",
      "[Epoch 1, Batch 14000] Loss: 0.429\n",
      "[Epoch 2, Batch 2000] Loss: 0.413\n",
      "[Epoch 2, Batch 4000] Loss: 0.395\n",
      "[Epoch 2, Batch 6000] Loss: 0.383\n",
      "[Epoch 2, Batch 8000] Loss: 0.393\n",
      "[Epoch 2, Batch 10000] Loss: 0.378\n",
      "[Epoch 2, Batch 12000] Loss: 0.386\n",
      "[Epoch 2, Batch 14000] Loss: 0.379\n",
      "[Epoch 3, Batch 2000] Loss: 0.345\n",
      "[Epoch 3, Batch 4000] Loss: 0.364\n",
      "[Epoch 3, Batch 6000] Loss: 0.347\n",
      "[Epoch 3, Batch 8000] Loss: 0.359\n",
      "[Epoch 3, Batch 10000] Loss: 0.347\n",
      "[Epoch 3, Batch 12000] Loss: 0.333\n",
      "[Epoch 3, Batch 14000] Loss: 0.352\n",
      "[Epoch 4, Batch 2000] Loss: 0.326\n",
      "[Epoch 4, Batch 4000] Loss: 0.332\n",
      "[Epoch 4, Batch 6000] Loss: 0.336\n",
      "[Epoch 4, Batch 8000] Loss: 0.318\n",
      "[Epoch 4, Batch 10000] Loss: 0.327\n",
      "[Epoch 4, Batch 12000] Loss: 0.328\n",
      "[Epoch 4, Batch 14000] Loss: 0.314\n",
      "[Epoch 5, Batch 2000] Loss: 0.305\n",
      "[Epoch 5, Batch 4000] Loss: 0.315\n",
      "[Epoch 5, Batch 6000] Loss: 0.311\n",
      "[Epoch 5, Batch 8000] Loss: 0.296\n",
      "[Epoch 5, Batch 10000] Loss: 0.309\n",
      "[Epoch 5, Batch 12000] Loss: 0.309\n",
      "[Epoch 5, Batch 14000] Loss: 0.297\n",
      "Training Finished!\n"
     ]
    }
   ],
   "source": [
    "# Train the neural network\n",
    "for epoch in range(num_epochs):\n",
    "    running_loss = 0.0\n",
    "    for i, data in enumerate(trainloader, 0):\n",
    "        inputs, labels = data\n",
    "        optimizer.zero_grad()\n",
    "\n",
    "        outputs = net(inputs)\n",
    "        loss = criterion(outputs, labels)\n",
    "        loss.backward()\n",
    "        optimizer.step()\n",
    "\n",
    "        running_loss += loss.item()\n",
    "        if i % 2000 == 1999:  # Print every 2000 mini-batches\n",
    "            print(f\"[Epoch {epoch + 1}, Batch {i + 1}] Loss: {running_loss / 2000:.3f}\")\n",
    "            losses.append(running_loss / 2000)\n",
    "            running_loss = 0.0\n",
    "\n",
    "print(\"Training Finished!\")"
   ]
  },
  {
   "cell_type": "markdown",
   "id": "c9240eee",
   "metadata": {},
   "source": [
    "## Find accuracy"
   ]
  },
  {
   "cell_type": "code",
   "execution_count": 11,
   "id": "4110debc",
   "metadata": {},
   "outputs": [
    {
     "name": "stdout",
     "output_type": "stream",
     "text": [
      "Accuracy on the test data: 85.76%\n"
     ]
    }
   ],
   "source": [
    "# Test the neural network on the test data\n",
    "accuracy = calculate_accuracy(net, testloader)\n",
    "print(f\"Accuracy on the test data: {accuracy:.2f}%\")"
   ]
  },
  {
   "cell_type": "markdown",
   "id": "d1fe6ffe",
   "metadata": {},
   "source": [
    "## Plot Loss "
   ]
  },
  {
   "cell_type": "code",
   "execution_count": 12,
   "id": "449f7b0a",
   "metadata": {},
   "outputs": [
    {
     "data": {
      "image/png": "[encoded data removed]",
      "text/plain": [
       "<Figure size 640x480 with 1 Axes>"
      ]
     },
     "metadata": {},
     "output_type": "display_data"
    }
   ],
   "source": [
    "# Plot the training loss curve\n",
    "plot_loss_curve(losses)"
   ]
  },
  {
   "cell_type": "code",
   "execution_count": null,
   "id": "0e8195cb",
   "metadata": {},
   "outputs": [],
   "source": []
  },
  {
   "cell_type": "code",
   "execution_count": 13,
   "id": "36bfa367",
   "metadata": {},
   "outputs": [
    {
     "data": {
      "image/png": "[encoded data removed]",
      "text/plain": [
       "<Figure size 1200x400 with 5 Axes>"
      ]
     },
     "metadata": {},
     "output_type": "display_data"
    }
   ],
   "source": [
    "# Plot misclassified images\n",
    "plot_misclassified_images(net, testloader)"
   ]
  },
  {
   "cell_type": "markdown",
   "id": "18533e45",
   "metadata": {},
   "source": []
  }
 ],
 "metadata": {
  "kernelspec": {
   "display_name": "mlci-venv-3.11.2",
   "language": "python",
   "name": "python3"
  },
  "language_info": {
   "codemirror_mode": {
    "name": "ipython",
    "version": 3
   },
   "file_extension": ".py",
   "mimetype": "text/x-python",
   "name": "python",
   "nbconvert_exporter": "python",
   "pygments_lexer": "ipython3",
   "version": "3.11.2"
  }
 },
 "nbformat": 4,
 "nbformat_minor": 5
}
