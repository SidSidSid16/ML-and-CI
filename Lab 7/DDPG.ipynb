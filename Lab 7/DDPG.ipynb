{
 "cells": [
  {
   "cell_type": "markdown",
   "metadata": {},
   "source": [
    "## Import Libraries"
   ]
  },
  {
   "cell_type": "code",
   "execution_count": 1,
   "metadata": {},
   "outputs": [],
   "source": [
    "import argparse\n",
    "from itertools import count\n",
    "import os, sys, random\n",
    "import numpy as np\n",
    "import torch\n",
    "import torch.nn as nn\n",
    "import torch.nn.functional as F\n",
    "import torch.optim as optim\n",
    "from torch.distributions import Normal\n",
    "from tensorboardX import SummaryWriter"
   ]
  },
  {
   "cell_type": "code",
   "execution_count": 2,
   "metadata": {},
   "outputs": [],
   "source": [
    "device = 'cuda' if torch.cuda.is_available() else 'cpu'"
   ]
  },
  {
   "cell_type": "markdown",
   "metadata": {},
   "source": [
    "## Load Environment"
   ]
  },
  {
   "cell_type": "markdown",
   "metadata": {},
   "source": [
    "We wil use Pendulum environment and will use Deep Deterministic Policy Gradient (DDPG) approach to train Actor-Critic Model"
   ]
  },
  {
   "cell_type": "code",
   "execution_count": 3,
   "metadata": {},
   "outputs": [],
   "source": [
    "import gym\n",
    "env = gym.make('Pendulum-v1', render_mode=\"rgb_array\")\n",
    "directory = ''\n"
   ]
  },
  {
   "cell_type": "markdown",
   "metadata": {},
   "source": [
    "Info\n",
    "- define random seed\n",
    "- get input state information\n",
    "\n",
    "gym env provides information about state of the agent"
   ]
  },
  {
   "cell_type": "code",
   "execution_count": 4,
   "metadata": {},
   "outputs": [
    {
     "name": "stdout",
     "output_type": "stream",
     "text": [
      "3 1 tensor(1.0000e-07) 2.0\n"
     ]
    }
   ],
   "source": [
    "random_seed = 10\n",
    "torch.manual_seed(random_seed)\n",
    "np.random.seed(random_seed)\n",
    "\n",
    "state_dim = env.observation_space.shape[0]\n",
    "action_dim = env.action_space.shape[0]\n",
    "max_action = float(env.action_space.high[0])\n",
    "min_Val = torch.tensor(1e-7).float().to(device) # min value\n",
    "print(state_dim, action_dim, min_Val, max_action)"
   ]
  },
  {
   "cell_type": "code",
   "execution_count": null,
   "metadata": {},
   "outputs": [],
   "source": []
  },
  {
   "cell_type": "markdown",
   "metadata": {},
   "source": [
    "## Relay Buffer\n",
    "- Replay buffer is created to save state, action, reward, and next state information of the agent.\n",
    "- This buffer data is used to train the Actor-Critic model\n",
    "- define the size of the buffer (max_size)"
   ]
  },
  {
   "cell_type": "code",
   "execution_count": 5,
   "metadata": {},
   "outputs": [],
   "source": [
    "class Replay_buffer():\n",
    "    '''\n",
    "    Expects tuples of (state, next_state, action, reward, done)\n",
    "    '''\n",
    "    def __init__(self, max_size=100000):\n",
    "        self.storage = []\n",
    "        self.max_size = max_size\n",
    "        self.ptr = 0\n",
    "\n",
    "    def push(self, data):\n",
    "        if len(self.storage) == self.max_size:\n",
    "            self.storage[int(self.ptr)] = data\n",
    "            self.ptr = (self.ptr + 1) % self.max_size\n",
    "        else:\n",
    "            self.storage.append(data)\n",
    "\n",
    "    def sample(self, batch_size):\n",
    "        ind = np.random.randint(0, len(self.storage), size=batch_size)\n",
    "        x, y, u, r, d = [], [], [], [], []\n",
    "\n",
    "        for i in ind:\n",
    "            X, Y, U, R, D = self.storage[i]\n",
    "            x.append(np.array(X, copy=False))\n",
    "            y.append(np.array(Y, copy=False))\n",
    "            u.append(np.array(U, copy=False))\n",
    "            r.append(np.array(R, copy=False))\n",
    "            d.append(np.array(D, copy=False))\n",
    "\n",
    "        return np.array(x), np.array(y), np.array(u), np.array(r).reshape(-1, 1), np.array(d).reshape(-1, 1)"
   ]
  },
  {
   "cell_type": "code",
   "execution_count": null,
   "metadata": {},
   "outputs": [],
   "source": []
  },
  {
   "cell_type": "markdown",
   "metadata": {},
   "source": [
    "## Create an Actor model\n",
    "Define\n",
    "- input state dimension\n",
    "- action dimension"
   ]
  },
  {
   "cell_type": "code",
   "execution_count": 6,
   "metadata": {},
   "outputs": [],
   "source": [
    "class Actor(nn.Module):\n",
    "    def __init__(self, state_dim, action_dim, max_action):\n",
    "        super(Actor, self).__init__()\n",
    "\n",
    "        self.l1 = nn.Linear(state_dim, 400)\n",
    "        self.l2 = nn.Linear(400, 300)\n",
    "        self.l3 = nn.Linear(300, action_dim)\n",
    "\n",
    "        self.max_action = max_action\n",
    "\n",
    "    def forward(self, x):\n",
    "        x = F.relu(self.l1(x))\n",
    "        x = F.relu(self.l2(x))\n",
    "        x = self.max_action * torch.tanh(self.l3(x))\n",
    "        return x"
   ]
  },
  {
   "cell_type": "code",
   "execution_count": null,
   "metadata": {},
   "outputs": [],
   "source": []
  },
  {
   "cell_type": "markdown",
   "metadata": {},
   "source": [
    "## Now create a Critic model\n",
    "Define\n",
    "- input state dimension\n",
    "- action dimension"
   ]
  },
  {
   "cell_type": "code",
   "execution_count": 7,
   "metadata": {},
   "outputs": [],
   "source": [
    "class Critic(nn.Module):\n",
    "    def __init__(self, state_dim, action_dim):\n",
    "        super(Critic, self).__init__()\n",
    "\n",
    "        self.l1 = nn.Linear(state_dim + action_dim, 400)\n",
    "        self.l2 = nn.Linear(400 , 300)\n",
    "        self.l3 = nn.Linear(300, 1)\n",
    "\n",
    "    def forward(self, x, u):\n",
    "        x = F.relu(self.l1(torch.cat([x, u], 1)))\n",
    "        x = F.relu(self.l2(x))\n",
    "        x = self.l3(x)\n",
    "        return x"
   ]
  },
  {
   "cell_type": "code",
   "execution_count": null,
   "metadata": {},
   "outputs": [],
   "source": []
  },
  {
   "cell_type": "markdown",
   "metadata": {},
   "source": [
    "Now the actor and cricit model has been defined, let's create DDPG class "
   ]
  },
  {
   "cell_type": "markdown",
   "metadata": {},
   "source": [
    "Define\n",
    "- actor\n",
    "- actor target\n",
    "- optimizer for actor\n",
    "\n",
    "- critic\n",
    "- critic target\n",
    "- critic optimizer\n",
    "\n",
    "- tau, gamma, batch_size, update_iteration"
   ]
  },
  {
   "cell_type": "code",
   "execution_count": 8,
   "metadata": {},
   "outputs": [],
   "source": [
    "\n",
    "class DDPG(object):\n",
    "    def __init__(self, state_dim, action_dim, max_action):\n",
    "        self.actor = Actor(state_dim, action_dim, max_action).to(device)\n",
    "        self.actor_target = Actor(state_dim, action_dim, max_action).to(device)\n",
    "        self.actor_target.load_state_dict(self.actor.state_dict())\n",
    "        self.actor_optimizer = optim.Adam(self.actor.parameters(), lr=1e-4)\n",
    "\n",
    "        self.critic = Critic(state_dim, action_dim).to(device)\n",
    "        self.critic_target = Critic(state_dim, action_dim).to(device)\n",
    "        self.critic_target.load_state_dict(self.critic.state_dict())\n",
    "        self.critic_optimizer = optim.Adam(self.critic.parameters(), lr=1e-3)\n",
    "        self.replay_buffer = Replay_buffer()\n",
    "        self.writer = SummaryWriter(directory)\n",
    "\n",
    "        self.num_critic_update_iteration = 0\n",
    "        self.num_actor_update_iteration = 0\n",
    "        self.num_training = 0\n",
    "        self.update_iteration = 200\n",
    "        self.tau = 0.005\n",
    "        self.gamma = 0.99\n",
    "        self.batch_size = 100\n",
    "\n",
    "    def select_action(self, state):\n",
    "        state = torch.FloatTensor(state.reshape(1, -1)).to(device)\n",
    "        return self.actor(state).cpu().data.numpy().flatten()\n",
    "\n",
    "    def update(self):\n",
    "\n",
    "        for it in range(self.update_iteration):\n",
    "            # Sample replay buffer\n",
    "            x, y, u, r, d = self.replay_buffer.sample(self.batch_size)\n",
    "            state = torch.FloatTensor(x).to(device)\n",
    "            action = torch.FloatTensor(u).to(device)\n",
    "            next_state = torch.FloatTensor(y).to(device)\n",
    "            done = torch.FloatTensor(1-d).to(device)\n",
    "            reward = torch.FloatTensor(r).to(device)\n",
    "\n",
    "            # Compute the target Q value\n",
    "            target_Q = self.critic_target(next_state, self.actor_target(next_state))\n",
    "            target_Q = reward + (done * self.gamma * target_Q).detach()\n",
    "\n",
    "            # Get current Q estimate\n",
    "            current_Q = self.critic(state, action)\n",
    "\n",
    "            # Compute critic loss\n",
    "            critic_loss = F.mse_loss(current_Q, target_Q)\n",
    "            self.writer.add_scalar('Loss/critic_loss', critic_loss, global_step=self.num_critic_update_iteration)\n",
    "            # Optimize the critic\n",
    "            self.critic_optimizer.zero_grad()\n",
    "            critic_loss.backward()\n",
    "            self.critic_optimizer.step()\n",
    "\n",
    "            # Compute actor loss\n",
    "            actor_loss = -self.critic(state, self.actor(state)).mean()\n",
    "            self.writer.add_scalar('Loss/actor_loss', actor_loss, global_step=self.num_actor_update_iteration)\n",
    "\n",
    "            # Optimize the actor\n",
    "            self.actor_optimizer.zero_grad()\n",
    "            actor_loss.backward()\n",
    "            self.actor_optimizer.step()\n",
    "\n",
    "            # Update the frozen target models\n",
    "            for param, target_param in zip(self.critic.parameters(), self.critic_target.parameters()):\n",
    "                target_param.data.copy_(self.tau * param.data + (1 - self.tau) * target_param.data)\n",
    "\n",
    "            for param, target_param in zip(self.actor.parameters(), self.actor_target.parameters()):\n",
    "                target_param.data.copy_(self.tau * param.data + (1 - self.tau) * target_param.data)\n",
    "\n",
    "            self.num_actor_update_iteration += 1\n",
    "            self.num_critic_update_iteration += 1\n",
    "\n",
    "    def save(self):\n",
    "        torch.save(self.actor.state_dict(), directory + 'actor.pth')\n",
    "        torch.save(self.critic.state_dict(), directory + 'critic.pth')\n",
    "        # print(\"====================================\")\n",
    "        # print(\"Model has been saved...\")\n",
    "        # print(\"====================================\")\n",
    "\n",
    "    def load(self):\n",
    "        self.actor.load_state_dict(torch.load(directory + 'actor.pth'))\n",
    "        self.critic.load_state_dict(torch.load(directory + 'critic.pth'))\n",
    "        print(\"====================================\")\n",
    "        print(\"model has been loaded...\")\n",
    "        print(\"====================================\")\n"
   ]
  },
  {
   "cell_type": "code",
   "execution_count": null,
   "metadata": {},
   "outputs": [],
   "source": []
  },
  {
   "cell_type": "code",
   "execution_count": 9,
   "metadata": {},
   "outputs": [],
   "source": [
    "agent = DDPG(state_dim, action_dim, max_action)\n",
    "ep_r = 0"
   ]
  },
  {
   "cell_type": "markdown",
   "metadata": {},
   "source": [
    "## Train The Actor-Critic Model\n",
    "Define\n",
    "- max episode\n",
    "- max time step the simulation will run\n",
    "- exploration_noise"
   ]
  },
  {
   "cell_type": "code",
   "execution_count": 10,
   "metadata": {},
   "outputs": [],
   "source": [
    "def train(max_episode = 100, log_interval=5, render=False, time_steps = 200, exploration_noise = 0.01):\n",
    "    all_rewards = []\n",
    "    for i in range(max_episode):\n",
    "        total_reward = 0\n",
    "        step =0\n",
    "        total_step = 0\n",
    "        state = env.reset()\n",
    "        state = np.asarray(state[0])\n",
    "        for t in range(time_steps):\n",
    "            action = agent.select_action(state)\n",
    "            # print(action)\n",
    "            action = (action + np.random.normal(0, exploration_noise, size=env.action_space.shape[0])).clip(\n",
    "                env.action_space.low, env.action_space.high)\n",
    "\n",
    "            next_state, reward, done, info, _ = env.step(action)\n",
    "            if render:\n",
    "                env.render()\n",
    "            agent.replay_buffer.push((state, next_state, action, reward, 0))\n",
    "\n",
    "            state = next_state\n",
    "            if done:\n",
    "                break\n",
    "            step += 1\n",
    "            total_reward += reward\n",
    "        total_step += step+1\n",
    "        all_rewards.append(total_reward)\n",
    "        print(\"Total T:{} Episode: \\t{} Total Reward: \\t{:0.2f}\".format(total_step, i, total_reward))\n",
    "        agent.update()\n",
    "\n",
    "        if i % log_interval == 0:\n",
    "            agent.save()\n",
    "    return all_rewards\n",
    "                "
   ]
  },
  {
   "cell_type": "code",
   "execution_count": null,
   "metadata": {},
   "outputs": [],
   "source": []
  },
  {
   "cell_type": "code",
   "execution_count": 11,
   "metadata": {},
   "outputs": [
    {
     "name": "stderr",
     "output_type": "stream",
     "text": [
      "/Users/sid/.pyenv/versions/3.11.2/envs/mlci-venv-3.11.2/lib/python3.11/site-packages/gym/utils/passive_env_checker.py:233: DeprecationWarning: `np.bool8` is a deprecated alias for `np.bool_`.  (Deprecated NumPy 1.24)\n",
      "  if not isinstance(terminated, (bool, np.bool8)):\n"
     ]
    },
    {
     "name": "stdout",
     "output_type": "stream",
     "text": [
      "Total T:201 Episode: \t0 Total Reward: \t-1569.56\n",
      "Total T:201 Episode: \t1 Total Reward: \t-1630.40\n",
      "Total T:201 Episode: \t2 Total Reward: \t-1487.58\n",
      "Total T:201 Episode: \t3 Total Reward: \t-1587.18\n",
      "Total T:201 Episode: \t4 Total Reward: \t-1435.34\n",
      "Total T:201 Episode: \t5 Total Reward: \t-1350.03\n",
      "Total T:201 Episode: \t6 Total Reward: \t-1499.07\n",
      "Total T:201 Episode: \t7 Total Reward: \t-1279.38\n",
      "Total T:201 Episode: \t8 Total Reward: \t-1327.77\n",
      "Total T:201 Episode: \t9 Total Reward: \t-1262.52\n",
      "Total T:201 Episode: \t10 Total Reward: \t-1156.69\n",
      "Total T:201 Episode: \t11 Total Reward: \t-508.04\n",
      "Total T:201 Episode: \t12 Total Reward: \t-628.66\n",
      "Total T:201 Episode: \t13 Total Reward: \t-635.22\n",
      "Total T:201 Episode: \t14 Total Reward: \t-1062.57\n",
      "Total T:201 Episode: \t15 Total Reward: \t-1023.69\n",
      "Total T:201 Episode: \t16 Total Reward: \t-1025.66\n",
      "Total T:201 Episode: \t17 Total Reward: \t-635.86\n",
      "Total T:201 Episode: \t18 Total Reward: \t-985.55\n",
      "Total T:201 Episode: \t19 Total Reward: \t-889.40\n",
      "Total T:201 Episode: \t20 Total Reward: \t-874.69\n",
      "Total T:201 Episode: \t21 Total Reward: \t-825.67\n",
      "Total T:201 Episode: \t22 Total Reward: \t-542.41\n",
      "Total T:201 Episode: \t23 Total Reward: \t-1022.19\n",
      "Total T:201 Episode: \t24 Total Reward: \t-933.15\n",
      "Total T:201 Episode: \t25 Total Reward: \t-871.62\n",
      "Total T:201 Episode: \t26 Total Reward: \t-634.71\n",
      "Total T:201 Episode: \t27 Total Reward: \t-753.82\n",
      "Total T:201 Episode: \t28 Total Reward: \t-1022.04\n",
      "Total T:201 Episode: \t29 Total Reward: \t-760.38\n",
      "Total T:201 Episode: \t30 Total Reward: \t-1111.90\n",
      "Total T:201 Episode: \t31 Total Reward: \t-848.91\n",
      "Total T:201 Episode: \t32 Total Reward: \t-746.23\n",
      "Total T:201 Episode: \t33 Total Reward: \t-602.81\n",
      "Total T:201 Episode: \t34 Total Reward: \t-626.41\n",
      "Total T:201 Episode: \t35 Total Reward: \t-774.84\n",
      "Total T:201 Episode: \t36 Total Reward: \t-631.30\n",
      "Total T:201 Episode: \t37 Total Reward: \t-622.66\n",
      "Total T:201 Episode: \t38 Total Reward: \t-747.74\n",
      "Total T:201 Episode: \t39 Total Reward: \t-622.27\n",
      "Total T:201 Episode: \t40 Total Reward: \t-726.99\n",
      "Total T:201 Episode: \t41 Total Reward: \t-617.78\n",
      "Total T:201 Episode: \t42 Total Reward: \t-502.97\n",
      "Total T:201 Episode: \t43 Total Reward: \t-611.98\n",
      "Total T:201 Episode: \t44 Total Reward: \t-494.04\n",
      "Total T:201 Episode: \t45 Total Reward: \t-494.77\n",
      "Total T:201 Episode: \t46 Total Reward: \t-497.99\n",
      "Total T:201 Episode: \t47 Total Reward: \t-380.11\n",
      "Total T:201 Episode: \t48 Total Reward: \t-502.95\n",
      "Total T:201 Episode: \t49 Total Reward: \t-636.13\n",
      "Total T:201 Episode: \t50 Total Reward: \t-260.33\n",
      "Total T:201 Episode: \t51 Total Reward: \t-395.12\n",
      "Total T:201 Episode: \t52 Total Reward: \t-257.02\n",
      "Total T:201 Episode: \t53 Total Reward: \t-388.47\n",
      "Total T:201 Episode: \t54 Total Reward: \t-129.59\n",
      "Total T:201 Episode: \t55 Total Reward: \t-493.21\n",
      "Total T:201 Episode: \t56 Total Reward: \t-370.48\n",
      "Total T:201 Episode: \t57 Total Reward: \t-379.04\n",
      "Total T:201 Episode: \t58 Total Reward: \t-261.45\n",
      "Total T:201 Episode: \t59 Total Reward: \t-134.16\n",
      "Total T:201 Episode: \t60 Total Reward: \t-16.43\n",
      "Total T:201 Episode: \t61 Total Reward: \t-405.06\n",
      "Total T:201 Episode: \t62 Total Reward: \t-516.98\n",
      "Total T:201 Episode: \t63 Total Reward: \t-377.73\n",
      "Total T:201 Episode: \t64 Total Reward: \t-258.61\n",
      "Total T:201 Episode: \t65 Total Reward: \t-267.40\n",
      "Total T:201 Episode: \t66 Total Reward: \t-374.16\n",
      "Total T:201 Episode: \t67 Total Reward: \t-142.84\n",
      "Total T:201 Episode: \t68 Total Reward: \t-272.24\n",
      "Total T:201 Episode: \t69 Total Reward: \t-137.71\n",
      "Total T:201 Episode: \t70 Total Reward: \t-266.41\n",
      "Total T:201 Episode: \t71 Total Reward: \t-261.15\n",
      "Total T:201 Episode: \t72 Total Reward: \t-144.46\n",
      "Total T:201 Episode: \t73 Total Reward: \t-264.59\n",
      "Total T:201 Episode: \t74 Total Reward: \t-287.37\n",
      "Total T:201 Episode: \t75 Total Reward: \t-140.80\n",
      "Total T:201 Episode: \t76 Total Reward: \t-141.16\n",
      "Total T:201 Episode: \t77 Total Reward: \t-146.77\n",
      "Total T:201 Episode: \t78 Total Reward: \t-393.80\n",
      "Total T:201 Episode: \t79 Total Reward: \t-145.12\n",
      "Total T:201 Episode: \t80 Total Reward: \t-145.68\n",
      "Total T:201 Episode: \t81 Total Reward: \t-269.23\n",
      "Total T:201 Episode: \t82 Total Reward: \t-19.88\n",
      "Total T:201 Episode: \t83 Total Reward: \t-268.22\n",
      "Total T:201 Episode: \t84 Total Reward: \t-1180.49\n",
      "Total T:201 Episode: \t85 Total Reward: \t-139.13\n",
      "Total T:201 Episode: \t86 Total Reward: \t-14.35\n",
      "Total T:201 Episode: \t87 Total Reward: \t-18.15\n",
      "Total T:201 Episode: \t88 Total Reward: \t-275.12\n",
      "Total T:201 Episode: \t89 Total Reward: \t-144.53\n",
      "Total T:201 Episode: \t90 Total Reward: \t-1435.45\n",
      "Total T:201 Episode: \t91 Total Reward: \t-1337.26\n",
      "Total T:201 Episode: \t92 Total Reward: \t-138.60\n",
      "Total T:201 Episode: \t93 Total Reward: \t-136.31\n",
      "Total T:201 Episode: \t94 Total Reward: \t-258.66\n",
      "Total T:201 Episode: \t95 Total Reward: \t-132.44\n",
      "Total T:201 Episode: \t96 Total Reward: \t-135.37\n",
      "Total T:201 Episode: \t97 Total Reward: \t-900.21\n",
      "Total T:201 Episode: \t98 Total Reward: \t-135.25\n",
      "Total T:201 Episode: \t99 Total Reward: \t-372.20\n"
     ]
    }
   ],
   "source": [
    "rewards = train()"
   ]
  },
  {
   "cell_type": "markdown",
   "metadata": {},
   "source": [
    "Plot reward over episodes"
   ]
  },
  {
   "cell_type": "code",
   "execution_count": 12,
   "metadata": {},
   "outputs": [
    {
     "data": {
      "image/png": "[encoded data removed]",
      "text/plain": [
       "<Figure size 640x480 with 1 Axes>"
      ]
     },
     "metadata": {},
     "output_type": "display_data"
    }
   ],
   "source": [
    "import matplotlib.pyplot as plt\n",
    "\n",
    "episodes = [i for i in range(len(rewards))]\n",
    "plt.plot(episodes, rewards)\n",
    "plt.show()"
   ]
  },
  {
   "cell_type": "code",
   "execution_count": 13,
   "metadata": {},
   "outputs": [],
   "source": [
    "def test(test_iteration=10, max_length_of_trajectory=100):\n",
    "    ep_r = 0\n",
    "    agent.load()\n",
    "    for i in range(test_iteration):\n",
    "        state = env.reset()\n",
    "        state = np.asarray(state[0])\n",
    "        for t in count():\n",
    "            action = agent.select_action(state)\n",
    "            # print(action)\n",
    "            next_state, reward, done, info, _ = env.step(action)\n",
    "            ep_r += reward\n",
    "            env.render()\n",
    "            if done or t >= max_length_of_trajectory:\n",
    "                print(\"Ep_i \\t{}, the ep_r is \\t{:0.2f}, the step is \\t{}\".format(i, ep_r, t))\n",
    "                ep_r = 0\n",
    "                break\n",
    "            state = next_state"
   ]
  },
  {
   "cell_type": "code",
   "execution_count": 16,
   "metadata": {},
   "outputs": [
    {
     "name": "stdout",
     "output_type": "stream",
     "text": [
      "====================================\n",
      "model has been loaded...\n",
      "====================================\n",
      "Ep_i \t0, the ep_r is \t-450.16, the step is \t100\n",
      "Ep_i \t1, the ep_r is \t-229.09, the step is \t100\n",
      "Ep_i \t2, the ep_r is \t-4.75, the step is \t100\n",
      "Ep_i \t3, the ep_r is \t-368.89, the step is \t100\n",
      "Ep_i \t4, the ep_r is \t-131.01, the step is \t100\n",
      "Ep_i \t5, the ep_r is \t-124.26, the step is \t100\n",
      "Ep_i \t6, the ep_r is \t-241.80, the step is \t100\n",
      "Ep_i \t7, the ep_r is \t-2.37, the step is \t100\n",
      "Ep_i \t8, the ep_r is \t-5.83, the step is \t100\n",
      "Ep_i \t9, the ep_r is \t-250.08, the step is \t100\n"
     ]
    }
   ],
   "source": [
    "test()"
   ]
  },
  {
   "cell_type": "code",
   "execution_count": null,
   "metadata": {},
   "outputs": [],
   "source": []
  }
 ],
 "metadata": {
  "kernelspec": {
   "display_name": "Python 3",
   "language": "python",
   "name": "python3"
  },
  "language_info": {
   "codemirror_mode": {
    "name": "ipython",
    "version": 3
   },
   "file_extension": ".py",
   "mimetype": "text/x-python",
   "name": "python",
   "nbconvert_exporter": "python",
   "pygments_lexer": "ipython3",
   "version": "3.11.2"
  }
 },
 "nbformat": 4,
 "nbformat_minor": 5
}
